{
 "cells": [
  {
   "cell_type": "code",
   "execution_count": 15,
   "id": "e34b22f4-8cd7-4448-8773-f6c4b5b17c80",
   "metadata": {},
   "outputs": [
    {
     "name": "stderr",
     "output_type": "stream",
     "text": [
      "[nltk_data] Downloading package punkt to\n",
      "[nltk_data]     C:\\Users\\DELL\\AppData\\Roaming\\nltk_data...\n",
      "[nltk_data]   Package punkt is already up-to-date!\n"
     ]
    },
    {
     "name": "stdout",
     "output_type": "stream",
     "text": [
      "Welcome to your CBT System for Glossophobia!\n",
      "Let's work on identifying negative thoughts and restructuring them.\n",
      "Please describe how you feel when you think about public speaking.\n"
     ]
    },
    {
     "name": "stdin",
     "output_type": "stream",
     "text": [
      "Your thoughts:  nervous\n"
     ]
    },
    {
     "name": "stdout",
     "output_type": "stream",
     "text": [
      "It seems you're feeling anxious about public speaking.\n",
      "Let's work on reframing those thoughts.\n"
     ]
    }
   ],
   "source": [
    "import nltk\n",
    "from nltk.tokenize import word_tokenize\n",
    "\n",
    "# Download the NLTK data if not already downloaded\n",
    "nltk.download('punkt')\n",
    "\n",
    "def welcome_message():\n",
    "    print(\"Welcome to your CBT System for Glossophobia!\")\n",
    "    print(\"Let's work on identifying negative thoughts and restructuring them.\")\n",
    "    print(\"Please describe how you feel when you think about public speaking.\")\n",
    "\n",
    "def thought_log():\n",
    "    user_input = input(\"Your thoughts: \")\n",
    "    tokens = word_tokenize(user_input.lower())\n",
    "    \n",
    "    # Simple response to negative words (fear, nervous, etc.)\n",
    "    negative_words = ['nervous', 'scared', 'anxious', 'terrified', 'shaky']\n",
    "    \n",
    "    # Check if any negative words are present in the user input\n",
    "    if any(word in tokens for word in negative_words):\n",
    "        print(\"It seems you're feeling anxious about public speaking.\")\n",
    "        print(\"Let's work on reframing those thoughts.\")\n",
    "    else:\n",
    "        print(\"Thank you for sharing your thoughts. Let's see if we can work on restructuring them.\")\n",
    "\n",
    "if __name__ == \"__main__\":\n",
    "    welcome_message()\n",
    "    thought_log()\n",
    "\n"
   ]
  },
  {
   "cell_type": "code",
   "execution_count": 17,
   "id": "bf842cc7-ed32-43ad-8781-8b90c67ca0f2",
   "metadata": {},
   "outputs": [],
   "source": [
    "def identify_distortion():\n",
    "    print(\"Now let's identify common cognitive distortions in your thoughts.\")\n",
    "    print(\"Do you tend to overgeneralize or think of worst-case scenarios?\")\n",
    "    \n",
    "    distortions = {\n",
    "        'overgeneralization': \"You think that one poor experience means you'll always fail.\",\n",
    "        'catastrophizing': \"You believe the worst will happen, like 'I'll completely fail'.\",\n",
    "        'fortune_telling': \"You predict bad things will happen, without evidence.\"\n",
    "    }\n",
    "    \n",
    "    for key, value in distortions.items():\n",
    "        print(f\"{key.capitalize()}: {value}\")\n",
    "    \n",
    "    response = input(\"Which of these best describes your thoughts? (Type: overgeneralization, catastrophizing, fortune_telling): \").lower()\n",
    "    \n",
    "    if response in distortions:\n",
    "        print(f\"It looks like you're dealing with {response}. Let's reframe it.\")\n",
    "    else:\n",
    "        print(\"That's okay! Keep identifying your thought patterns and work through them.\")\n"
   ]
  },
  {
   "cell_type": "code",
   "execution_count": 19,
   "id": "51e7e37c-caba-4f8b-aed5-2a277ea278b9",
   "metadata": {},
   "outputs": [],
   "source": [
    "def reframe_thoughts():\n",
    "    print(\"Let's try to reframe that thought.\")\n",
    "    reframing_tips = {\n",
    "        'overgeneralization': \"Think of times you've succeeded or did okay in speaking.\",\n",
    "        'catastrophizing': \"What would happen if the worst case did occur? Could you cope with it?\",\n",
    "        'fortune_telling': \"Is there any solid evidence that your prediction will come true?\"\n",
    "    }\n",
    "    \n",
    "    response = input(\"Which distortion are you trying to reframe? (overgeneralization, catastrophizing, fortune_telling): \").lower()\n",
    "    \n",
    "    if response in reframing_tips:\n",
    "        print(reframing_tips[response])\n",
    "        print(\"Try to come up with a more balanced, realistic thought.\")\n",
    "        balanced_thought = input(\"Your new thought: \")\n",
    "        print(f\"Great! Remember this thought: '{balanced_thought}' when facing similar fears.\")\n",
    "    else:\n",
    "        print(\"Let's keep practicing reframing your thoughts.\")\n"
   ]
  },
  {
   "cell_type": "code",
   "execution_count": 21,
   "id": "fc5d492b-f7fb-4666-9acf-8564ab159163",
   "metadata": {},
   "outputs": [
    {
     "name": "stdout",
     "output_type": "stream",
     "text": [
      "Welcome to your CBT System for Glossophobia!\n",
      "Let's work on identifying negative thoughts and restructuring them.\n",
      "Please describe how you feel when you think about public speaking.\n"
     ]
    },
    {
     "name": "stdin",
     "output_type": "stream",
     "text": [
      "Your thoughts:  Anxious\n"
     ]
    },
    {
     "name": "stdout",
     "output_type": "stream",
     "text": [
      "It seems you're feeling anxious about public speaking.\n",
      "Let's work on reframing those thoughts.\n",
      "Now let's identify common cognitive distortions in your thoughts.\n",
      "Do you tend to overgeneralize or think of worst-case scenarios?\n",
      "Overgeneralization: You think that one poor experience means you'll always fail.\n",
      "Catastrophizing: You believe the worst will happen, like 'I'll completely fail'.\n",
      "Fortune_telling: You predict bad things will happen, without evidence.\n"
     ]
    },
    {
     "name": "stdin",
     "output_type": "stream",
     "text": [
      "Which of these best describes your thoughts? (Type: overgeneralization, catastrophizing, fortune_telling):  overgeneralization\n"
     ]
    },
    {
     "name": "stdout",
     "output_type": "stream",
     "text": [
      "It looks like you're dealing with overgeneralization. Let's reframe it.\n",
      "Let's try to reframe that thought.\n"
     ]
    },
    {
     "name": "stdin",
     "output_type": "stream",
     "text": [
      "Which distortion are you trying to reframe? (overgeneralization, catastrophizing, fortune_telling):  overgeneralization\n"
     ]
    },
    {
     "name": "stdout",
     "output_type": "stream",
     "text": [
      "Think of times you've succeeded or did okay in speaking.\n",
      "Try to come up with a more balanced, realistic thought.\n"
     ]
    },
    {
     "name": "stdin",
     "output_type": "stream",
     "text": [
      "Your new thought:  I felt happy, confident and capable of doing more\n"
     ]
    },
    {
     "name": "stdout",
     "output_type": "stream",
     "text": [
      "Great! Remember this thought: 'I felt happy, confident and capable of doing more' when facing similar fears.\n"
     ]
    }
   ],
   "source": [
    "def main():\n",
    "    welcome_message()\n",
    "    thought_log()\n",
    "    identify_distortion()\n",
    "    reframe_thoughts()\n",
    "\n",
    "if __name__ == \"__main__\":\n",
    "    main()\n"
   ]
  },
  {
   "cell_type": "code",
   "execution_count": null,
   "id": "5db9bdbf-20a4-430c-adaf-53b21ca330d4",
   "metadata": {},
   "outputs": [],
   "source": []
  }
 ],
 "metadata": {
  "kernelspec": {
   "display_name": "Python 3 (ipykernel)",
   "language": "python",
   "name": "python3"
  },
  "language_info": {
   "codemirror_mode": {
    "name": "ipython",
    "version": 3
   },
   "file_extension": ".py",
   "mimetype": "text/x-python",
   "name": "python",
   "nbconvert_exporter": "python",
   "pygments_lexer": "ipython3",
   "version": "3.12.4"
  }
 },
 "nbformat": 4,
 "nbformat_minor": 5
}
